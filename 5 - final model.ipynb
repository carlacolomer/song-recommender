{
 "cells": [
  {
   "cell_type": "markdown",
   "id": "823def1c",
   "metadata": {},
   "source": [
    "# Final Model"
   ]
  },
  {
   "cell_type": "markdown",
   "id": "6ca02980",
   "metadata": {},
   "source": [
    "## Importing libraries and dataframes"
   ]
  },
  {
   "cell_type": "code",
   "execution_count": 1,
   "id": "e494ee1d",
   "metadata": {},
   "outputs": [],
   "source": [
    "# main\n",
    "import pandas as pd\n",
    "import numpy as np\n",
    "import time\n",
    "\n",
    "# spotify\n",
    "import spotipy\n",
    "from spotipy.oauth2 import SpotifyClientCredentials\n",
    "\n",
    "# sklearn\n",
    "from sklearn.preprocessing import StandardScaler\n",
    "from sklearn.cluster import KMeans"
   ]
  },
  {
   "cell_type": "markdown",
   "id": "c0f26f26",
   "metadata": {},
   "source": [
    "## Setting everything for running the model\n",
    "## Spotify API & Authentication"
   ]
  },
  {
   "cell_type": "code",
   "execution_count": 2,
   "id": "6d89fd13",
   "metadata": {},
   "outputs": [],
   "source": [
    "import config"
   ]
  },
  {
   "cell_type": "code",
   "execution_count": 3,
   "id": "0ba12420",
   "metadata": {},
   "outputs": [],
   "source": [
    "#Initialize SpotiPy with user credentias\n",
    "sp = spotipy.Spotify(auth_manager=SpotifyClientCredentials(client_id= config.client_id,\n",
    "                                                           client_secret= config.client_secret))\n"
   ]
  },
  {
   "cell_type": "markdown",
   "id": "d6152996",
   "metadata": {},
   "source": [
    "## Scaling and clustering the songs"
   ]
  },
  {
   "cell_type": "code",
   "execution_count": 4,
   "id": "46e416ce",
   "metadata": {},
   "outputs": [
    {
     "data": {
      "text/html": [
       "<div>\n",
       "<style scoped>\n",
       "    .dataframe tbody tr th:only-of-type {\n",
       "        vertical-align: middle;\n",
       "    }\n",
       "\n",
       "    .dataframe tbody tr th {\n",
       "        vertical-align: top;\n",
       "    }\n",
       "\n",
       "    .dataframe thead th {\n",
       "        text-align: right;\n",
       "    }\n",
       "</style>\n",
       "<table border=\"1\" class=\"dataframe\">\n",
       "  <thead>\n",
       "    <tr style=\"text-align: right;\">\n",
       "      <th></th>\n",
       "      <th>duration</th>\n",
       "      <th>danceability</th>\n",
       "      <th>energy</th>\n",
       "      <th>acousticness</th>\n",
       "      <th>instrumentalness</th>\n",
       "      <th>liveness</th>\n",
       "      <th>loudness</th>\n",
       "      <th>speechiness</th>\n",
       "      <th>valence</th>\n",
       "      <th>tempo</th>\n",
       "    </tr>\n",
       "  </thead>\n",
       "  <tbody>\n",
       "    <tr>\n",
       "      <th>0</th>\n",
       "      <td>369600</td>\n",
       "      <td>0.482</td>\n",
       "      <td>0.721</td>\n",
       "      <td>0.731000</td>\n",
       "      <td>0.000000</td>\n",
       "      <td>0.1890</td>\n",
       "      <td>-6.839</td>\n",
       "      <td>0.0321</td>\n",
       "      <td>0.557</td>\n",
       "      <td>95.263</td>\n",
       "    </tr>\n",
       "    <tr>\n",
       "      <th>1</th>\n",
       "      <td>301240</td>\n",
       "      <td>0.485</td>\n",
       "      <td>0.863</td>\n",
       "      <td>0.000012</td>\n",
       "      <td>0.016200</td>\n",
       "      <td>0.1380</td>\n",
       "      <td>-9.027</td>\n",
       "      <td>0.0495</td>\n",
       "      <td>0.767</td>\n",
       "      <td>116.835</td>\n",
       "    </tr>\n",
       "    <tr>\n",
       "      <th>2</th>\n",
       "      <td>337413</td>\n",
       "      <td>0.364</td>\n",
       "      <td>0.457</td>\n",
       "      <td>0.290000</td>\n",
       "      <td>0.000106</td>\n",
       "      <td>0.9220</td>\n",
       "      <td>-14.162</td>\n",
       "      <td>0.0675</td>\n",
       "      <td>0.175</td>\n",
       "      <td>163.219</td>\n",
       "    </tr>\n",
       "    <tr>\n",
       "      <th>3</th>\n",
       "      <td>219146</td>\n",
       "      <td>0.398</td>\n",
       "      <td>0.413</td>\n",
       "      <td>0.082200</td>\n",
       "      <td>0.000025</td>\n",
       "      <td>0.0891</td>\n",
       "      <td>-10.934</td>\n",
       "      <td>0.0388</td>\n",
       "      <td>0.331</td>\n",
       "      <td>133.574</td>\n",
       "    </tr>\n",
       "    <tr>\n",
       "      <th>4</th>\n",
       "      <td>160892</td>\n",
       "      <td>0.518</td>\n",
       "      <td>0.756</td>\n",
       "      <td>0.735000</td>\n",
       "      <td>0.000062</td>\n",
       "      <td>0.3170</td>\n",
       "      <td>-10.851</td>\n",
       "      <td>0.0915</td>\n",
       "      <td>0.968</td>\n",
       "      <td>166.429</td>\n",
       "    </tr>\n",
       "  </tbody>\n",
       "</table>\n",
       "</div>"
      ],
      "text/plain": [
       "   duration  danceability  energy  acousticness  instrumentalness  liveness  \\\n",
       "0    369600         0.482   0.721      0.731000          0.000000    0.1890   \n",
       "1    301240         0.485   0.863      0.000012          0.016200    0.1380   \n",
       "2    337413         0.364   0.457      0.290000          0.000106    0.9220   \n",
       "3    219146         0.398   0.413      0.082200          0.000025    0.0891   \n",
       "4    160892         0.518   0.756      0.735000          0.000062    0.3170   \n",
       "\n",
       "   loudness  speechiness  valence    tempo  \n",
       "0    -6.839       0.0321    0.557   95.263  \n",
       "1    -9.027       0.0495    0.767  116.835  \n",
       "2   -14.162       0.0675    0.175  163.219  \n",
       "3   -10.934       0.0388    0.331  133.574  \n",
       "4   -10.851       0.0915    0.968  166.429  "
      ]
     },
     "execution_count": 4,
     "metadata": {},
     "output_type": "execute_result"
    }
   ],
   "source": [
    "spotify_playlist = pd.read_csv(\"../spotify_playlist.csv\")\n",
    "final_list = spotify_playlist.iloc[:, 2:]\n",
    "final_list.head()"
   ]
  },
  {
   "cell_type": "code",
   "execution_count": 5,
   "id": "9800d0ee",
   "metadata": {},
   "outputs": [
    {
     "data": {
      "text/plain": [
       "array([[ 0.99246275, -0.50112909,  0.44606667, ..., -0.52005721,\n",
       "        -0.08095904, -0.93184138],\n",
       "       [ 0.41750491, -0.48313242,  1.05368433, ..., -0.28751635,\n",
       "         0.77214694, -0.1602277 ],\n",
       "       [ 0.72174643, -1.2089984 , -0.68358871, ..., -0.04695684,\n",
       "        -1.63279944,  1.49889194],\n",
       "       ...,\n",
       "       [-0.57664395,  0.7706361 ,  0.39899769, ...,  3.59484688,\n",
       "        -0.65782118, -0.0483058 ],\n",
       "       [-0.247616  , -1.40096296,  0.78410748, ..., -0.51337501,\n",
       "         1.03620356,  0.99887397],\n",
       "       [-0.14085854, -0.39914792,  0.62578457, ..., -0.00820003,\n",
       "         1.29213535,  1.12181279]])"
      ]
     },
     "execution_count": 5,
     "metadata": {},
     "output_type": "execute_result"
    }
   ],
   "source": [
    "# initilazing the scaler\n",
    "scaler = StandardScaler()\n",
    "\n",
    "# scaling the playlist\n",
    "playlist_scaled = scaler.fit_transform(final_list)\n",
    "playlist_scaled"
   ]
  },
  {
   "cell_type": "markdown",
   "id": "67de4fb5",
   "metadata": {},
   "source": [
    "## KMeans"
   ]
  },
  {
   "cell_type": "markdown",
   "id": "13cf0fdf",
   "metadata": {},
   "source": [
    "The greater the Silouhette, the greater the separation between the clusters, in other words, the clusters will be more defined.\n",
    "\n",
    "Looking into the results , the Elbow Method doesn't show us a clear winner for the n_clusters we should use. On the other hand, thanks to the Silhoutte Score we see that this score reach it's peak at 7. For that, we will redo the clustering with this new value in mind.\n"
   ]
  },
  {
   "cell_type": "code",
   "execution_count": 6,
   "id": "a04bbf1f",
   "metadata": {},
   "outputs": [
    {
     "data": {
      "text/plain": [
       "KMeans(n_clusters=7, random_state=42)"
      ]
     },
     "execution_count": 6,
     "metadata": {},
     "output_type": "execute_result"
    }
   ],
   "source": [
    "# intilize the model\n",
    "kmeans = KMeans(n_clusters=7, random_state=42)\n",
    "\n",
    "# fit the model\n",
    "kmeans.fit(playlist_scaled)"
   ]
  },
  {
   "cell_type": "markdown",
   "id": "70d259f5",
   "metadata": {},
   "source": [
    "## Running the Final Model\n",
    "### Loading the CSV Files"
   ]
  },
  {
   "cell_type": "code",
   "execution_count": 7,
   "id": "5bda8b4d",
   "metadata": {},
   "outputs": [],
   "source": [
    "billboard = pd.read_csv(\"../top_hot_100.csv\")\n",
    "playlist = pd.read_csv(\"../playlist_with_clusters.csv\")"
   ]
  },
  {
   "cell_type": "markdown",
   "id": "7205c4b1",
   "metadata": {},
   "source": [
    "## Testing the Model"
   ]
  },
  {
   "cell_type": "code",
   "execution_count": 8,
   "id": "09b8bcf1",
   "metadata": {},
   "outputs": [],
   "source": [
    "#User inputs a song. If it's on the DF, it will return another one, if not it will search on Spotify.\n",
    "def input_song(df):\n",
    "    choice = input(\"Welcome to the IronCarla Song Recommender. Write down a song to get a recommendation: \\n\").lower().strip()\n",
    "    \n",
    "    if choice in df.str.lower().values:\n",
    "        return 1, choice # billboard\n",
    "    else:\n",
    "        return 0, choice # if not on billboard, spotify "
   ]
  },
  {
   "cell_type": "code",
   "execution_count": 9,
   "id": "43d8eb8c",
   "metadata": {
    "scrolled": true
   },
   "outputs": [
    {
     "name": "stdout",
     "output_type": "stream",
     "text": [
      "Welcome to the IronCarla Song Recommender. Write down a song to get a recommendation: \n",
      "Fly me to the moon\n",
      "Fly Me To The Moon (In Other Words)  -  Frank Sinatra\n",
      "Wops, seems your song is not hot, but wait to get a recommendation based on the audio features of the song...\n",
      "\n",
      "Loading..\n",
      "Loading...\n",
      "\n",
      "Finally! Here's your perfect song:\n",
      "\n",
      "'Shapes Of Things'\n",
      "\n",
      "Do you want to predict another song? y/n: y\n",
      "Here's another recommendation:\n",
      "\n",
      "'The Sky Is Crying'\n",
      "\n",
      "Do you want to predict another song? y/n: n\n",
      "\n",
      "Thanks for using IronCarla Song Recommender\n"
     ]
    }
   ],
   "source": [
    "album, choice = input_song(billboard[\"album\"])\n",
    "\n",
    "# Choice from Billboard 100 songs \n",
    "if album == 1:\n",
    "    suggestion = billboard.sample()\n",
    "    suggestion_album = suggestion[\"album\"].values.flatten()\n",
    "    suggestion_artist = suggestion[\"artist\"].values.flatten()\n",
    "    suggestion_album = str(suggestion_album).lstrip(\"[\").rstrip(\"]\")\n",
    "    suggestion_artist = str(suggestion_artist).lstrip(\"[\").rstrip(\"]\")\n",
    "\n",
    "    time.sleep(1.5)\n",
    "    print(\"\\nLoading..\")\n",
    "    time.sleep(1.5)\n",
    "    print(\"Loading...\\n\")\n",
    "    time.sleep(0.5)\n",
    "    print(\"We found something!\\n\")\n",
    "    print(\"This song is HOT! Wait to get another hot song recommended...\")\n",
    "    print(f\"Here's our recommedation: {suggestion_album} from {suggestion_artist}. What a hit!\")\n",
    "    print(\"\\nThanks for using IronCarla Song Recommender\")\n",
    "\n",
    "# Choice not from Billboard 100 songs, hence search based on 10k songs playlist\n",
    "elif album == 0:\n",
    "    spoti_song = sp.search(q=choice)\n",
    "        \n",
    "    print(spoti_song[\"tracks\"][\"items\"][0][\"name\"], \" - \", spoti_song[\"tracks\"][\"items\"][0][\"artists\"][0][\"name\"])\n",
    "    song_features_spoti = pd.DataFrame(sp.audio_features(spoti_song[\"tracks\"][\"items\"][0][\"uri\"]))\n",
    "    spoti_features = song_features_spoti[[\"danceability\", \"energy\", \"mode\", \"acousticness\", \"instrumentalness\", \"liveness\",\n",
    "                          \"loudness\", \"speechiness\", \"valence\", \"tempo\"]]\n",
    "\n",
    "    features_spoti_scaled = scaler.transform(spoti_features)\n",
    "    spoti_cluster = kmeans.predict(features_spoti_scaled)\n",
    "    match_song = playlist[playlist[\"cluster\"] == int(spoti_cluster)][\"song\"]\n",
    "    \n",
    "    song_suggestion = match_song.sample()\n",
    "\n",
    "    clean_song = list(song_suggestion)\n",
    "    clean_song_2 = str(clean_song).lstrip(\"[\").rstrip(\"]\")    \n",
    "\n",
    "    print(\"Wops, seems your song is not hot, but wait to get a recommendation based on the audio features of the song...\\n\")\n",
    "\n",
    "    time.sleep(1.5)\n",
    "    print(\"Loading..\")\n",
    "    time.sleep(1.5)\n",
    "    print(\"Loading...\\n\")\n",
    "    time.sleep(0.5)\n",
    "\n",
    "    print(\"Finally! Here's your perfect song:\\n\")\n",
    "    print(f\"{clean_song_2}\\n\")\n",
    "    \n",
    "        \n",
    "    # Continue recommending \n",
    "    while True:\n",
    "        redo = input(f\"Do you want to predict another song? y/n: \")\n",
    "        if redo == \"y\":\n",
    "            print(\"Here's another recommendation:\\n\")\n",
    "            spoti_suggestion = match_song.sample()\n",
    "            clean_suggestion = list(spoti_suggestion)\n",
    "            clean_suggestion_2 = str(clean_suggestion).lstrip(\"[\").rstrip(\"]\")\n",
    "            print(f\"{clean_suggestion_2}\\n\")\n",
    "            \n",
    "        elif redo == \"n\":\n",
    "            print(\"\\nThanks for using IronCarla Song Recommender\")\n",
    "            break\n",
    "        else:\n",
    "            print(\"Sorry, we couldn't detect your choice. Remember to write 'y' or 'n'\")"
   ]
  },
  {
   "cell_type": "markdown",
   "id": "092f8b0d",
   "metadata": {},
   "source": [
    "## Future Improvements to model\n",
    "- include urls to recommendations to make the demo nicer \n",
    "- bold artist and song\n",
    "- special characters"
   ]
  },
  {
   "cell_type": "code",
   "execution_count": null,
   "id": "fd9f1dac",
   "metadata": {},
   "outputs": [],
   "source": []
  }
 ],
 "metadata": {
  "kernelspec": {
   "display_name": "Python 3",
   "language": "python",
   "name": "python3"
  },
  "language_info": {
   "codemirror_mode": {
    "name": "ipython",
    "version": 3
   },
   "file_extension": ".py",
   "mimetype": "text/x-python",
   "name": "python",
   "nbconvert_exporter": "python",
   "pygments_lexer": "ipython3",
   "version": "3.8.8"
  }
 },
 "nbformat": 4,
 "nbformat_minor": 5
}
