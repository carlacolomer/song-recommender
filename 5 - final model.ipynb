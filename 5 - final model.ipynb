{
 "cells": [
  {
   "cell_type": "markdown",
   "id": "0bd83fb9",
   "metadata": {},
   "source": [
    "# Final Model"
   ]
  },
  {
   "cell_type": "markdown",
   "id": "e665c1d1",
   "metadata": {},
   "source": [
    "## Libraries"
   ]
  },
  {
   "cell_type": "code",
   "execution_count": 1,
   "id": "eb3ecefa",
   "metadata": {},
   "outputs": [],
   "source": [
    "# main\n",
    "import pandas as pd\n",
    "import numpy as np\n",
    "import time\n",
    "\n",
    "# spotify\n",
    "import spotipy\n",
    "from spotipy.oauth2 import SpotifyClientCredentials\n",
    "\n",
    "# sklearn\n",
    "from sklearn.preprocessing import StandardScaler\n",
    "from sklearn.cluster import KMeans"
   ]
  },
  {
   "cell_type": "markdown",
   "id": "bb2a3eb1",
   "metadata": {},
   "source": [
    "## Setting everything for running the model\n",
    "## Spotify API"
   ]
  },
  {
   "cell_type": "code",
   "execution_count": 2,
   "id": "e1748b9c",
   "metadata": {},
   "outputs": [],
   "source": [
    "import config"
   ]
  },
  {
   "cell_type": "code",
   "execution_count": 3,
   "id": "106f629e",
   "metadata": {},
   "outputs": [],
   "source": [
    "#Initialize SpotiPy with user credentias\n",
    "sp = spotipy.Spotify(auth_manager=SpotifyClientCredentials(client_id= config.client_id,\n",
    "                                                           client_secret= config.client_secret))\n"
   ]
  },
  {
   "cell_type": "markdown",
   "id": "68851443",
   "metadata": {},
   "source": [
    "## Scaler"
   ]
  },
  {
   "cell_type": "code",
   "execution_count": 4,
   "id": "5d7f5783",
   "metadata": {},
   "outputs": [],
   "source": [
    "spotify_playlist = pd.read_csv(\"../spotify_playlist.csv\")\n",
    "final_list = spotify_playlist.iloc[:, 2:]"
   ]
  },
  {
   "cell_type": "code",
   "execution_count": 5,
   "id": "9151e613",
   "metadata": {},
   "outputs": [],
   "source": [
    "# initilazing the scaler\n",
    "scaler = StandardScaler()\n",
    "\n",
    "# scaling the playlist\n",
    "playlist_scaled = scaler.fit_transform(final_list)"
   ]
  },
  {
   "cell_type": "markdown",
   "id": "87e5fa71",
   "metadata": {},
   "source": [
    "## KMeans"
   ]
  },
  {
   "cell_type": "code",
   "execution_count": 6,
   "id": "607500b7",
   "metadata": {},
   "outputs": [
    {
     "data": {
      "text/plain": [
       "KMeans(n_clusters=7, random_state=42)"
      ]
     },
     "execution_count": 6,
     "metadata": {},
     "output_type": "execute_result"
    }
   ],
   "source": [
    "# intilize the model\n",
    "kmeans = KMeans(n_clusters=7, random_state=42)\n",
    "\n",
    "# fit the model\n",
    "kmeans.fit(playlist_scaled)"
   ]
  },
  {
   "cell_type": "markdown",
   "id": "835ddf85",
   "metadata": {},
   "source": [
    "## Running the Final Model\n",
    "### Loading the CSV Files"
   ]
  },
  {
   "cell_type": "code",
   "execution_count": 7,
   "id": "c31a5d37",
   "metadata": {},
   "outputs": [],
   "source": [
    "billboard = pd.read_csv(\"../top_hot_100.csv\")\n",
    "playlist = pd.read_csv(\"../playlist_with_clusters.csv\")\n"
   ]
  },
  {
   "cell_type": "markdown",
   "id": "20959d8a",
   "metadata": {},
   "source": [
    "## Testing the Model"
   ]
  },
  {
   "cell_type": "code",
   "execution_count": 8,
   "id": "027d5c81",
   "metadata": {},
   "outputs": [],
   "source": [
    "#User inputs a song. If it's on the DF, it will return another one, if not it will search on Spotify.\n",
    "def input_song(df):\n",
    "    choice = input(\"Welcome to the IronCarla Song Recommender. Write down a song to get a recommendation: \\n\").lower()\n",
    "    \n",
    "    if choice in df.str.lower().values:\n",
    "        return 1, choice\n",
    "    else:\n",
    "        return 0, choice\n"
   ]
  },
  {
   "cell_type": "code",
   "execution_count": 9,
   "id": "f71e8b64",
   "metadata": {},
   "outputs": [
    {
     "name": "stdout",
     "output_type": "stream",
     "text": [
      "Welcome to the IronCarla Song Recommender. Write down a song to get a recommendation: \n",
      "danza kuduro\n",
      "Danza Kuduro  -  Don Omar\n",
      "Wops, seems your song is not hot right now! Let me find you something else.\n",
      "\n",
      "Loading..\n",
      "Loading...\n",
      "\n",
      "Finally! Here's your perfect song:\n",
      "\n",
      "'Mona Lisa'\n",
      "\n",
      "Do you want to predict another song? y/n: y\n",
      "Here's another recommendation:\n",
      "\n",
      "'Sunday Candy'\n",
      "\n",
      "Do you want to predict another song? y/n: n\n",
      "\n",
      "Thanks for using IronCarla Song Recommender\n"
     ]
    }
   ],
   "source": [
    "album, choice = input_song(billboard[\"album\"])\n",
    "\n",
    "if album == 1:\n",
    "    suggestion = billboard.sample()\n",
    "    suggestion_album = suggestion[\"album\"].values.flatten()\n",
    "    suggestion_artist = suggestion[\"artist(s)\"].values.flatten()\n",
    "    suggestion_album = str(suggestion_album).lstrip(\"[\").rstrip(\"]\")\n",
    "    suggestion_artist = str(suggestion_artist).lstrip(\"[\").rstrip(\"]\")\n",
    "\n",
    "    time.sleep(1.5)\n",
    "    print(\"\\nLoading..\")\n",
    "    time.sleep(1.5)\n",
    "    print(\"Loading...\\n\")\n",
    "    time.sleep(0.5)\n",
    "    print(\"We found something!\\n\")\n",
    "    print(f\"Here's our recommedation: {suggestion_album} from {suggestion_artist}. What a hit!\")\n",
    "\n",
    "elif album == 0:\n",
    "    spoti_song = sp.search(q=choice)\n",
    "        \n",
    "    print(spoti_song[\"tracks\"][\"items\"][0][\"name\"], \" - \", spoti_song[\"tracks\"][\"items\"][0][\"artists\"][0][\"name\"])\n",
    "    song_features_spoti = pd.DataFrame(sp.audio_features(spoti_song[\"tracks\"][\"items\"][0][\"uri\"]))\n",
    "    spoti_features = song_features_spoti[[\"danceability\", \"energy\", \"mode\", \"acousticness\", \"instrumentalness\", \"liveness\",\n",
    "                          \"loudness\", \"speechiness\", \"valence\", \"tempo\"]]\n",
    "\n",
    "    features_spoti_scaled = scaler.transform(spoti_features)\n",
    "    spoti_cluster = kmeans.predict(features_spoti_scaled)\n",
    "    match_song = playlist[playlist[\"cluster\"] == int(spoti_cluster)][\"song\"]\n",
    "    \n",
    "    song_suggestion = match_song.sample()\n",
    "\n",
    "    clean_song = list(song_suggestion)\n",
    "    clean_song_2 = str(clean_song).lstrip(\"[\").rstrip(\"]\")    \n",
    "\n",
    "    print(\"Wops, seems your song is not hot, but wait to get a recommendation based on the audio features of the song...\\n\")\n",
    "\n",
    "    time.sleep(1.5)\n",
    "    print(\"Loading..\")\n",
    "    time.sleep(1.5)\n",
    "    print(\"Loading...\\n\")\n",
    "    time.sleep(0.5)\n",
    "\n",
    "    print(\"Finally! Here's your perfect song:\\n\")\n",
    "    print(f\"{clean_song_2}\\n\")\n",
    "    \n",
    "        \n",
    "    # Keep Working in that\n",
    "    while True:\n",
    "        redo = input(f\"Do you want to predict another song? y/n: \")\n",
    "        if redo == \"y\":\n",
    "            print(\"Here's another recommendation:\\n\")\n",
    "            spoti_suggestion = match_song.sample()\n",
    "            clean_suggestion = list(spoti_suggestion)\n",
    "            clean_suggestion_2 = str(clean_suggestion).lstrip(\"[\").rstrip(\"]\")\n",
    "            print(f\"{clean_suggestion_2}\\n\")\n",
    "            \n",
    "        elif redo == \"n\":\n",
    "            print(\"\\nThanks for using IronCarla Song Recommender\")\n",
    "            break\n",
    "        else:\n",
    "            print(\"Sorry, we couldn't detect your choice. Remember to write 'y' or 'n'\")\n"
   ]
  }
 ],
 "metadata": {
  "kernelspec": {
   "display_name": "Python 3",
   "language": "python",
   "name": "python3"
  },
  "language_info": {
   "codemirror_mode": {
    "name": "ipython",
    "version": 3
   },
   "file_extension": ".py",
   "mimetype": "text/x-python",
   "name": "python",
   "nbconvert_exporter": "python",
   "pygments_lexer": "ipython3",
   "version": "3.8.8"
  }
 },
 "nbformat": 4,
 "nbformat_minor": 5
}
